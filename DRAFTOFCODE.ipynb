{
 "cells": [
  {
   "cell_type": "markdown",
   "id": "94f0e383-f963-4dd0-8bb9-2e4c585237e4",
   "metadata": {},
   "source": [
    "## Athena Topakas - Draft of Code "
   ]
  },
  {
   "cell_type": "markdown",
   "id": "6c79d087-9867-4e3a-b134-417203d5795f",
   "metadata": {},
   "source": [
    "Scientific Question: Does the specific protein hemagglutinin (HA) in the sequence of influenza A cause a more severe reaction compared to influenza B?"
   ]
  },
  {
   "cell_type": "markdown",
   "id": "2cadd43a-23cb-42f1-b84d-a8c2e6415d5d",
   "metadata": {},
   "source": [
    "Background of Protein: The protein that I have chosen to test for this project is Hemagglutinin also known as (HA). This protein is found in the virus Influenza, and it plays an important role in the early stages of the virus. The HA protein is responsible for the virus's binding to cell surface receptors and for the viral genome's liberation into the cytoplasm via membrane fusion.\n",
    "\n",
    "Source: https://pubmed.ncbi.nlm.nih.gov/9360372/"
   ]
  },
  {
   "cell_type": "markdown",
   "id": "7b9658e7-56ba-404a-92d2-cacbf3d63aa6",
   "metadata": {},
   "source": [
    "Scientific Hypothesis: If humans have less immunity to Influenza A than they do to influenza B, then there may be structural differences in the HA protein for Influenza A and influenza B. "
   ]
  },
  {
   "cell_type": "markdown",
   "id": "5760e4a1-32a8-42e9-adf9-ff8a9ee97686",
   "metadata": {},
   "source": [
    "Description of what analyses were done and how the data was downloaded for the project: I used the website Protein Data Bank (PDB) and National Center for Biotechnology Information (NCBI) to find my 4 different sequences. The sequences that I chose were two sequences from Influenza A (H1N1 and H3N2) and two sequences from Influenza B (Victoria and Yamagata). I combined all of my four sequences into one FASTA file to be able to do my code. "
   ]
  },
  {
   "cell_type": "markdown",
   "id": "9c1aa1be-4880-4ff6-a55b-f0f4afbf15f3",
   "metadata": {},
   "source": [
    "## Draft of Code"
   ]
  },
  {
   "cell_type": "markdown",
   "id": "0f2872b5-b5c9-4a59-b661-d68e4cc7fb9d",
   "metadata": {},
   "source": [
    "## Multiple Sequence Alignment"
   ]
  },
  {
   "cell_type": "code",
   "execution_count": 36,
   "id": "c347f0cb-e582-41c5-8d13-0932aa837e65",
   "metadata": {},
   "outputs": [],
   "source": [
    "#import sys lets us access system-specific parameters and functions\n",
    "import sys\n",
    "#this provides a simple uniform interface to input & output assorted sequence file formats (such as multiple sequence alignment) \n",
    "from Bio import SeqIO\n",
    "#this is for multiple sequence alignment program (operating systems)\n",
    "from Bio.Align.Applications import MafftCommandline\n",
    "#this creates a temp file in the temp directory and returns a file object \n",
    "import tempfile"
   ]
  },
  {
   "cell_type": "code",
   "execution_count": 37,
   "id": "f86398fc-95b4-4fea-b2fa-60c08fd70469",
   "metadata": {},
   "outputs": [],
   "source": [
    "#variable fasta is for all my 4 sequence data\n",
    "fasta = \"Total-1.fasta\""
   ]
  },
  {
   "cell_type": "code",
   "execution_count": 38,
   "id": "4115846f-3451-4825-b089-217aac4f74ca",
   "metadata": {},
   "outputs": [],
   "source": [
    "reference = 0 \n",
    "count = 0"
   ]
  },
  {
   "cell_type": "code",
   "execution_count": 20,
   "id": "3887fc3b-1640-4748-abff-8b5bacad178a",
   "metadata": {},
   "outputs": [
    {
     "name": "stdout",
     "output_type": "stream",
     "text": [
      "Collecting package metadata (current_repodata.json): done\n",
      "Solving environment: done\n",
      "\n",
      "## Package Plan ##\n",
      "\n",
      "  environment location: /Users/athenatopakas/opt/anaconda3\n",
      "\n",
      "  added / updated specs:\n",
      "    - mafft\n",
      "\n",
      "\n",
      "The following packages will be downloaded:\n",
      "\n",
      "    package                    |            build\n",
      "    ---------------------------|-----------------\n",
      "    conda-4.13.0               |   py39hecd8cb5_0         906 KB\n",
      "    mafft-7.505                |       ha5712d3_0         8.9 MB  bioconda\n",
      "    ------------------------------------------------------------\n",
      "                                           Total:         9.8 MB\n",
      "\n",
      "The following NEW packages will be INSTALLED:\n",
      "\n",
      "  mafft              bioconda/osx-64::mafft-7.505-ha5712d3_0\n",
      "\n",
      "The following packages will be UPDATED:\n",
      "\n",
      "  conda              conda-forge::conda-4.12.0-py39h6e9494~ --> pkgs/main::conda-4.13.0-py39hecd8cb5_0\n",
      "\n",
      "\n",
      "\n",
      "Downloading and Extracting Packages\n",
      "conda-4.13.0         | 906 KB    | ##################################### | 100% \n",
      "mafft-7.505          | 8.9 MB    | ##################################### | 100% \n",
      "Preparing transaction: done\n",
      "Verifying transaction: done\n",
      "Executing transaction: done\n",
      "\n",
      "Note: you may need to restart the kernel to use updated packages.\n"
     ]
    }
   ],
   "source": [
    "# installing bioconda mafft\n",
    "conda install -c bioconda mafft"
   ]
  },
  {
   "cell_type": "code",
   "execution_count": 34,
   "id": "7e95ccb4-cb6d-4ca2-ac2f-2e606c7b1bd3",
   "metadata": {},
   "outputs": [
    {
     "name": "stdout",
     "output_type": "stream",
     "text": [
      ">KY888464.1 Influenza A virus (A/JiangxiDonghu/1648/2013(H3N2)) segment 4 hemagglutinin (HA) gene, partial cds\n",
      "ctggttttcgctcaaaaacttcctggaaatgacaatagcacggcaacgctgtgccttggg\n",
      "caccatgcagtaccaaacggaacgatagtgaaaacaatcacgaatgaccgaattgaagtt\n",
      "actaatgctactgagctggttcagaattcctcaataggtgaaatatgcaacagtcctcat\n",
      "cagatccttgatggagaaaattgcacactaatagatgctctattgggagaccctcagtgt\n",
      "gatggctttcaaaataagaaatgggacctttttgttgaacgaagcaaagcctacagcaac\n",
      "tgttacccttatgatgtgccggattatgcctcccttaggtcactagttgcctcatccggc\n",
      "acactggagtttaacaatgaaagcttcaattgggctggagtcactcaaaacggaacaagt\n",
      "tctgcttgcataaggggatctaatagtagtttctttagtagattaaattggttgacccac\n",
      "ttaaacttcaaatacccagcattgaacgtgactatgccaaacaatgaacaatttgacaaa\n",
      "ttgtacatttggggggttcaccacccgggtacggacaaggaccaaatcttcctgtatgct\n",
      "caatcatcaggaagaatcacagtatctaccaaaagaagccaacaagctgtaatcccgaat\n",
      "atcggatctagacccagaataaggaatatccctagcagaataagcatctattggacaata\n",
      "gtaaaaccgggagacatacttttgattaacagcacagggaatctaattgctcctaggggt\n",
      "tacttcaaaatacgaagtgggaaaagctcaataatgagatcagatgcacccattggcaaa\n",
      "tgcaagtctgaatgcatcactccaaatggaagcattcccaatgacaaaccattccaaaat\n",
      "gtaaacaggatcacatatggggcctgtcccagatatgttaagcaaagcactctgaaattg\n",
      "gcaacaggaatgcgaaat\n",
      ">KY888464.1 Influenza A virus (A/JiangxiDonghu/1648/2013(H3N2)) segment 4 hemagglutinin (HA) gene, partial cds\n",
      "ctggttttcgctcaaaaacttcctggaaatgacaatagcacggcaacgctgtgccttggg\n",
      "caccatgcagtaccaaacggaacgatagtgaaaacaatcacgaatgaccgaattgaagtt\n",
      "actaatgctactgagctggttcagaattcctcaataggtgaaatatgcaacagtcctcat\n",
      "cagatccttgatggagaaaattgcacactaatagatgctctattgggagaccctcagtgt\n",
      "gatggctttcaaaataagaaatgggacctttttgttgaacgaagcaaagcctacagcaac\n",
      "tgttacccttatgatgtgccggattatgcctcccttaggtcactagttgcctcatccggc\n",
      "acactggagtttaacaatgaaagcttcaattgggctggagtcactcaaaacggaacaagt\n",
      "tctgcttgcataaggggatctaatagtagtttctttagtagattaaattggttgacccac\n",
      "ttaaacttcaaatacccagcattgaacgtgactatgccaaacaatgaacaatttgacaaa\n",
      "ttgtacatttggggggttcaccacccgggtacggacaaggaccaaatcttcctgtatgct\n",
      "caatcatcaggaagaatcacagtatctaccaaaagaagccaacaagctgtaatcccgaat\n",
      "atcggatctagacccagaataaggaatatccctagcagaataagcatctattggacaata\n",
      "gtaaaaccgggagacatacttttgattaacagcacagggaatctaattgctcctaggggt\n",
      "tacttcaaaatacgaagtgggaaaagctcaataatgagatcagatgcacccattggcaaa\n",
      "tgcaagtctgaatgcatcactccaaatggaagcattcccaatgacaaaccattccaaaat\n",
      "gtaaacaggatcacatatggggcctgtcccagatatgttaagcaaagcactctgaaattg\n",
      "gcaacaggaatgcgaaat\n",
      "\n",
      "\n",
      "\n",
      ">KY888464.1 Influenza A virus (A/JiangxiDonghu/1648/2013(H3N2)) segment 4 hemagglutinin (HA) gene, partial cds\n",
      "ctggttttcgctcaaaaacttcctggaaatgacaatagcacggcaacgctgtgccttggg\n",
      "caccatgcagtaccaaacggaacgata--gtgaaaacaatcacgaatgaccgaattgaag\n",
      "ttactaatgctactgagctggttcagaattcctcaataggtgaaatatgc----------\n",
      "-aacagtcctcatcagatccttgatggagaaaattgcacactaatagatgctctattggg\n",
      "agaccctcagtgtga-----tggctttcaaaataagaaatgggacctttttgttgaacga\n",
      "agcaaagcct----acagcaactgttacccttatgatgtgccggattatgcctcccttag\n",
      "gtcac---------tagttgcctcatccggcacactgga---gtttaacaatgaaagctt\n",
      "caattgggctggagtcactcaaaacggaac----aagttctgcttgcataaggggatcta\n",
      "atagtagtttctttagtagattaaattggttgacccacttaaacttcaaatacccagcat\n",
      "tgaacgtgactatgccaaacaatgaacaatttgacaaattgtacatttggggggttcacc\n",
      "acccgggtacggacaaggaccaaatcttcctgt------------atgctcaatcatcag\n",
      "gaagaatcacagtatctaccaaaagaagccaacaagctgtaatcccgaatatcggatcta\n",
      "gacccagaataaggaatatccctagcagaataagcatctattggacaatagtaaaaccgg\n",
      "gagacatacttttgattaacagcacagggaatctaattgctcctaggggttacttcaaaa\n",
      "tacgaagtgggaaaagctc---aataatgagatcagatgcacccattggcaaatgcaagt\n",
      "ctgaatgcatcactccaaatggaagcattcccaatgacaaaccattccaaaatgtaaaca\n",
      "ggatcacatatggggcctgtcccagatatgttaagcaaagcactctgaaattggcaacag\n",
      "gaatgcgaaat---------------------\n",
      ">AB451167.1 Influenza A virus (A/Aichi/28/2008(H1N1)) HA1 gene for hemagglutinin, partial cds\n",
      "------------------------------------------gacacaatatgtataggc\n",
      "taccatgc--taacaactcgaccgacactgttgacacagtacttgaaaagaatgtgacag\n",
      "tgacacactctgtcaacctgcttgagaacagtcacaatggaaaactatgtctattaaaag\n",
      "gaatagccccactacaatt--------gggtaattgcagcgttgccgggtgggtcttagg\n",
      "aaacccagaatgcgaattactgatttccaag--gagtcatggtcctacattgtagaa-aa\n",
      "accaaatcctgagaatggaacatgttacccagggcatttcgctgactatgaggaactgag\n",
      "ggagcaattgagttcagtatcttcatttgagaggttcgaaatattccccaaggaaagctc\n",
      "---atggcccaaccacaccgtaaccggagtgtcagcatcatgctcccataatggg----g\n",
      "aaagcagtttttacagaaatttgctatggctgacggggaagaatggtttgtacccaaacc\n",
      "tgagcaagtcctatgcaaacaacaaagaaaaagaagtccttgtactatggggtgttcatc\n",
      "acccgccaaacataggtgaccaaaaggccctctatcatacagaaaatgcttatgtttctg\n",
      "tagtgtcttcacattatagcagaaaa------------ttcaccccagaaatagccaaaa\n",
      "gacccaaagtaagagatcaagaaggaagaatcaactactactggactctgcttgaacccg\n",
      "gggatacaataatatttgaggcaaatggaaatctaatagcgccaagatatgctttcgcac\n",
      "tgagtagaggatttggatcaggaatcatcaactcaaatgcaccaatggataaatgtgatg\n",
      "cgaagtgccaaacacctcagggagctataaacagcagtcttcctttccagaacgtacacc\n",
      "cagtcacaataggagagtgtccaaaatatgtcaggagtgcaaaattaaggatggttacag\n",
      "gactaaggaacatcccatccattcaatccaga\n",
      "\n",
      "\n",
      "\n",
      ">KY888464.1 Influenza A virus (A/JiangxiDonghu/1648/2013(H3N2)) segment 4 hemagglutinin (HA) gene, partial cds\n",
      "ctggttttcgctcaaaaacttcctggaaatgacaatagcacggcaacgctgtgccttggg\n",
      "caccatgcagtaccaaacggaacgatagtgaaaacaatcacgaatgaccgaattgaagtt\n",
      "actaatgctac----------------------tgagctggttcagaattcctcaatagg\n",
      "tgaaatatgcaacagtcctcatcagatccttgatggagaaaattgcacactaatagatgc\n",
      "tctattgggagaccctcagtgtgatgg-------ctttcaaaataagaaatgggaccttt\n",
      "ttgttgaacgaagcaaagcctacagcaactg-----ttacccttatgatgtgccggatta\n",
      "tgcctcccttaggtcactagttgcctcatccggcacactggagtttaacaat--------\n",
      "---------------------------gaaagcttcaattgggctggagtcactcaaaac\n",
      "ggaacaagttctgcttgcataaggggatct-----aatagtagtttctttagt-------\n",
      "-------agattaaattggttgacccacttaaacttcaaatacccagcattgaacgtgac\n",
      "tatgccaaacaatgaacaatttgacaaattgtacatttggggggttcaccacccgggtac\n",
      "ggacaaggaccaaat-------cttcctgtatgctcaatcatcaggaagaatcacagtat\n",
      "ctaccaaaagaa-gccaacaagctgtaatcccgaa----------tatcggatctagacc\n",
      "cagaataaggaatatccc----tagcagaataagcatctattggacaatagtaaaaccgg\n",
      "gagacatacttttgattaacagcacagggaatctaattgctcctaggggttacttcaaaa\n",
      "tacg--------aagtgggaaaagctcaataatgagatcagatgcaccc---attggcaa\n",
      "atgcaagtc----------tgaatgcatcactccaaatggaagcattcccaatgacaaac\n",
      "cattccaaaatgtaaacaggatcacatatggggcctgtcccagatatgttaagcaaagca\n",
      "ctctgaaattg-gcaacaggaatgcgaaat\n",
      ">KP461123.1 Influenza B virus (B/Yamagata/45/2008) segment 4 hemagglutinin (HA) gene, partial cds\n",
      "----------gatcgaatctgcactggaataacatcttcaaactcacctcatg-------\n",
      "-------------------------tggtcaaaacagccactcaaggggaggtcaatgtg\n",
      "actggtgtgataccactaacaacaacaccaacaaaatcttattttgcaaatctcaa----\n",
      "aggaacaaggaccagagggaaactatgcccagactgtctcaactgcacagatctggatgt\n",
      "ggctttgggcagaccaatgtgtgtggggaccacaccttcggcgaaag--------cttca\n",
      "atactccacgaagtcagacctgttacatccgggtgctttcctataatgcacgacagaaca\n",
      "aaaatcaggcaactacccaatcttctcagaggatatgaaaatatcaggctatcaacccaa\n",
      "aacgtcatcgatgcggaaaaggcaccaggaggaccctacagacttggaacctcaggatct\n",
      "tgccctaacgctaccagtaagagcggatttttcgcaacaatggcttgggctgtcccaaag\n",
      "gacaacaacaaaaatgcaacgaacccactaacagtagaagtaccatacatt---------\n",
      "tgtacagaaggggaa-------gaccaaatcactgtttgggggtt---ccattcagata-\n",
      "--acaaaacccaaatgaagaacctctatggagactcaaat-cctcaaaagttcacctcat\n",
      "ctgctaatggagtaaccacacactatgtttctcagattggcagcttcccagatcaaacag\n",
      "aagacggaggactaccacaaagcggcaggattgttgttgattacatgatgcaaaaacctg\n",
      "ggaaaacaggaacaattgtctaccaaagaggtgtttt-----------gttgcctcaaag\n",
      "ggtgtggtgcgcgagtggcaggagcaaagtaataaaagggtccttgcctttaattggtga\n",
      "a-gcagattgccttcatgaaaaatacggtggattaaacaaaagcaagccttac-------\n",
      "------------tacacaggagaacatgca------------------------aaagcc\n",
      "ataggaaattgcccaatatgggtgaaaaca\n",
      "\n",
      "\n",
      "\n",
      ">KY888464.1 Influenza A virus (A/JiangxiDonghu/1648/2013(H3N2)) segment 4 hemagglutinin (HA) gene, partial cds\n",
      "---ctggttttcgctcaaa-aacttcctggaaatgacaatagcacggcaacgctgtgcct\n",
      "tgggcaccatgcagtaccaaacggaacgatagtgaaaacaatcacgaatgaccgaattga\n",
      "agttactaatgctac----------------------tgagctggttcagaattcctcaa\n",
      "taggtgaaatatgcaacagtcctcatcagatccttgatggagaaaattgcacactaatag\n",
      "atgctctattgggagaccctcagtgtgatgg-------ctttcaaaataagaaatgggac\n",
      "ctttttgttgaacgaagcaaagcctacagcaactg-----ttacccttatgatgtgccgg\n",
      "attatgcctcccttaggtcactagttgcctcatccggcacactggagtttaacaat----\n",
      "-------------------------------gaaagcttcaattgggctggagtcactca\n",
      "aaacggaacaagttctgcttgcataaggggatct-----aatagtagtttctttagt---\n",
      "-----------agattaaattggttgacccacttaaacttcaaatacccagcattgaacg\n",
      "tgactatgccaaacaatgaacaatttgacaaattgtacatttggggggttcaccacccgg\n",
      "gtacggacaaggaccaaat-------cttcctgtatgctcaatcatcaggaagaatcaca\n",
      "gtatctaccaaaagaa-gccaacaagctgtaatcccgaa----------tatcggatcta\n",
      "gacccagaataaggaatatccc----tagcagaataagcatctattggacaatagtaaaa\n",
      "ccgggagacatacttttgattaacagcacagggaatctaattgctcctaggggttacttc\n",
      "aaaatacg--------aagtgggaaaagctcaataatgagatcagatgcaccc---attg\n",
      "gcaaatgcaagtc----------tgaatgcatcactccaaatggaagcattcccaatgac\n",
      "aaaccattccaaaatgtaaacaggatcacatatggggcctgtcccagatatgttaagcaa\n",
      "agcactctgaaattg-gcaacaggaatgcgaaat\n",
      ">KP459386.1 Influenza B virus (B/Victoria/503/2008) segment 4 hemagglutinin (HA) gene, partial cds\n",
      "gatcgaatctgcactggaataacatcctcaaactcacctca-------------------\n",
      "---------------------------tgtggtcaaaacagccactcaaggggaggtcaa\n",
      "tgtaactggtgtgataccactaacaacaacaccaacaaaatcttattttgcaaatctcaa\n",
      "----aggaacaaggaccagagggaaactatgcccagactgtctcaactgcacagatctgg\n",
      "atgtggctttgggcagaccaatgtgtgtggggaccacaccttcggcgaaag--------c\n",
      "ttcaatactccacgaagtcagacctgttacatccgggtgctttcctataatgcacgacag\n",
      "aacaaaaatcaggcaactacccaatcttctcagaggatatgaaaatatcaggctatcaac\n",
      "ccaaaacgtcatcgatgcggagaaggcaccaggaggaccctacagacttggaacctcagg\n",
      "atcttgccctaacgctaccagtaagagcggatttttcgcaacaatggcttgggctgtccc\n",
      "aaaggacaacaacaaaaatgcaacgaacccactaacagtagaagtaccatacatt-----\n",
      "----tgtacagaaggggaa-------gaccaaatcactgtttgggggtt---ccattcag\n",
      "ata---acaaaacccaaatgaagaacctctatggagactcaaat-cctcaaaagttcacc\n",
      "tcatctgctaatggagtaaccacacaccatgtttctcagattggcagcttcccagatcaa\n",
      "acagaagacggaggactaccacaaagcggcaggattgttgttgattacatgatgcaaaaa\n",
      "cctgggaaaacaggaacaattgtctaccaaagaggtgtttt-----------gttgcctc\n",
      "aaagggtgtggtgcgcgagtggcaggagcaaagtaataaaagggtccttgcctttaattg\n",
      "gtgaa-gcagattgccttcatgaaaaatacggtggattaaacaaaagcaagccttac---\n",
      "----------------tacacaggagaacatgca------------------------aa\n",
      "agccataggaaattgcccaatatgggtgaaaaca\n",
      "\n",
      "\n",
      "\n"
     ]
    }
   ],
   "source": [
    "#recieves a file that has a name (uses it to create a temp file)\n",
    "with tempfile.NamedTemporaryFile() as temp:\n",
    "    #for loop using if else\n",
    "    for record in SeqIO.parse(\"Total-1.fasta\", \"fasta\"):\n",
    "        if count == 0:\n",
    "            reference = record \n",
    "        else:\n",
    "            SeqIO.write([reference, record], temp.name, \"fasta\")\n",
    "            mafft_cline = MafftCommandline(input=temp.name)\n",
    "            stdout,stderr=mafft_cline()\n",
    "            print(stdout)\n",
    "        count += 1\n",
    "        print('\\n')"
   ]
  },
  {
   "cell_type": "markdown",
   "id": "7dfad4cc-a161-4fdb-a358-de19b56cd66b",
   "metadata": {},
   "source": [
    "## Phylogenetic "
   ]
  },
  {
   "cell_type": "code",
   "execution_count": 51,
   "id": "e44e41b3-c4ad-443e-a742-3f9441d15b36",
   "metadata": {},
   "outputs": [],
   "source": [
    "import Bio\n",
    "from Bio import Phylo, AlignIO\n",
    "from Bio.Phylo.TreeConstruction import DistanceCalculator, DistanceTreeConstructor"
   ]
  },
  {
   "cell_type": "code",
   "execution_count": 59,
   "id": "96a04dab-8955-4804-a102-96b009298a73",
   "metadata": {},
   "outputs": [
    {
     "name": "stdout",
     "output_type": "stream",
     "text": [
      "Alignment with 4 rows and 1230 columns\n",
      "---------GATCGAATCTGCACTGGA-ATAACATCTTCAA--A...--- KP461123.1\n",
      "---------GATCGAATCTGCACTGGA-ATAACATCCTCAA--A...--- KP459386.1\n",
      "CTGGTTTTCGCTCAAAAACTTCCTGGAAATGACAATAGCACGGC...--- KY888464.1\n",
      "------------------------------------------GA...AGA AB451167.1\n",
      "KP461123.1\t0\n",
      "KP459386.1\t0.003252032520325243\t0\n",
      "KY888464.1\t0.6528455284552845\t0.6520325203252033\t0\n",
      "AB451167.1\t0.6227642276422765\t0.624390243902439\t0.5487804878048781\t0\n",
      "\tKP461123.1\tKP459386.1\tKY888464.1\tAB451167.1\n"
     ]
    },
    {
     "data": {
      "image/png": "[encoded data removed]",
      "text/plain": [
       "<Figure size 432x288 with 1 Axes>"
      ]
     },
     "metadata": {
      "needs_background": "light"
     },
     "output_type": "display_data"
    }
   ],
   "source": [
    "#Read and align query sequences\n",
    "align = AlignIO.read(\"aln-fasta.txt\", \"fasta\")\n",
    "\n",
    "#Print the alignment\n",
    "print(align)\n",
    "\n",
    "#Calculate the distance matrix\n",
    "calculator = DistanceCalculator('identity')\n",
    "distMatrix = calculator.get_distance(align)\n",
    "\n",
    "#Print distance matrix result\n",
    "print(distMatrix)\n",
    "\n",
    "#Creating a DistanceTreeConstructor object\n",
    "constructor = DistanceTreeConstructor()\n",
    "\n",
    "#Constructing the phylogenetic tree \n",
    "Tree = constructor.upgma(distMatrix)\n",
    "\n",
    "#Draw the phylogenetic tree\n",
    "Phylo.draw(Tree)"
   ]
  },
  {
   "cell_type": "markdown",
   "id": "4cf9df98-fc98-4345-8ec4-cc9d835000cb",
   "metadata": {},
   "source": [
    "## Structural bioinformatics"
   ]
  },
  {
   "cell_type": "code",
   "execution_count": 7,
   "id": "30f865e2-ae58-4bcf-90e6-715fb57536a3",
   "metadata": {},
   "outputs": [],
   "source": [
    "#importing nglview to be able to view the structure\n",
    "import nglview as nv"
   ]
  },
  {
   "cell_type": "code",
   "execution_count": 56,
   "id": "c528857c-0e0d-49ce-9365-f8f0e51134e2",
   "metadata": {},
   "outputs": [
    {
     "data": {
      "application/vnd.jupyter.widget-view+json": {
       "model_id": "972190e3920847059038042f6ccbfe20",
       "version_major": 2,
       "version_minor": 0
      },
      "text/plain": [
       "NGLWidget()"
      ]
     },
     "metadata": {},
     "output_type": "display_data"
    }
   ],
   "source": [
    "view = nv.show_pdbid(\"5WKO\")\n",
    "view"
   ]
  },
  {
   "cell_type": "code",
   "execution_count": 58,
   "id": "11fd45df-26bf-4659-8aab-2c98d7ccd5d5",
   "metadata": {},
   "outputs": [
    {
     "data": {
      "application/vnd.jupyter.widget-view+json": {
       "model_id": "75aa26b1b4cc4509a4755012667c37a4",
       "version_major": 2,
       "version_minor": 0
      },
      "text/plain": [
       "NGLWidget()"
      ]
     },
     "metadata": {},
     "output_type": "display_data"
    }
   ],
   "source": [
    "view = nv.show_pdbid(\"3BT6\")\n",
    "view"
   ]
  },
  {
   "cell_type": "code",
   "execution_count": null,
   "id": "fabf5555-d055-41bd-9daf-f9cf8e8acd34",
   "metadata": {},
   "outputs": [],
   "source": []
  },
  {
   "cell_type": "code",
   "execution_count": 40,
   "id": "077f4aac-ccd3-4e59-a5dd-48fbdf784988",
   "metadata": {},
   "outputs": [
    {
     "data": {
      "application/vnd.jupyter.widget-view+json": {
       "model_id": "f39fb345000947b885d21bdb43aab0af",
       "version_major": 2,
       "version_minor": 0
      },
      "text/plain": [
       "NGLWidget()"
      ]
     },
     "metadata": {},
     "output_type": "display_data"
    }
   ],
   "source": [
    "view = nv.show_pdbid(\"3ZTJ\")\n",
    "view"
   ]
  },
  {
   "cell_type": "code",
   "execution_count": 41,
   "id": "7e932fdb-c44c-457d-940e-54d315feaa48",
   "metadata": {},
   "outputs": [
    {
     "data": {
      "application/vnd.jupyter.widget-view+json": {
       "model_id": "ce3feea3b6404e29b4cbe8fd1395448d",
       "version_major": 2,
       "version_minor": 0
      },
      "text/plain": [
       "NGLWidget()"
      ]
     },
     "metadata": {},
     "output_type": "display_data"
    }
   ],
   "source": [
    "view = nv.show_pdbid(\"4M40\")\n",
    "view"
   ]
  },
  {
   "cell_type": "markdown",
   "id": "90108d75-2663-4485-b503-3cfa00c59028",
   "metadata": {},
   "source": [
    "## 3D Measurements"
   ]
  },
  {
   "cell_type": "code",
   "execution_count": 54,
   "id": "ae7baeeb-4f3e-4944-9e77-3b49e40bfbff",
   "metadata": {},
   "outputs": [],
   "source": [
    "from Bio.PDB.PDBParser import PDBParser"
   ]
  },
  {
   "cell_type": "code",
   "execution_count": 64,
   "id": "38a44741-dd15-488d-86ab-baebd3439de1",
   "metadata": {},
   "outputs": [
    {
     "name": "stdout",
     "output_type": "stream",
     "text": [
      "3.9006157\n"
     ]
    },
    {
     "name": "stderr",
     "output_type": "stream",
     "text": [
      "/Users/athenatopakas/opt/anaconda3/lib/python3.9/site-packages/Bio/PDB/StructureBuilder.py:89: PDBConstructionWarning: WARNING: Chain D is discontinuous at line 42546.\n",
      "  warnings.warn(\n"
     ]
    }
   ],
   "source": [
    "#Influenza A H3N2\n",
    "parser = PDBParser()\n",
    "#Get protein structure of H3N2\n",
    "structure_of_H3N2 = parser.get_structure(\"3ZTJ\", \"3ztj.pdb\")\n",
    "#Get the residues from the protein structure of H3N2\n",
    "residues_H3N2 = [r for r in structure_of_H3N2.get_residues()]\n",
    "#Calculate the distance between alpha carbons\n",
    "ca1_H3N2 = residues_H3N2[0][\"CA\"]\n",
    "ca2_H3N2 = residues_H3N2[1][\"CA\"]\n",
    "distance_H3N2 = ca1_H3N2 - ca2_H3N2\n",
    "#Print\n",
    "print(distance_H1N1)"
   ]
  },
  {
   "cell_type": "code",
   "execution_count": null,
   "id": "1c375fb5-6aeb-4dc7-97b9-0f146d3b46b6",
   "metadata": {},
   "outputs": [],
   "source": []
  }
 ],
 "metadata": {
  "kernelspec": {
   "display_name": "Python 3 (ipykernel)",
   "language": "python",
   "name": "python3"
  },
  "language_info": {
   "codemirror_mode": {
    "name": "ipython",
    "version": 3
   },
   "file_extension": ".py",
   "mimetype": "text/x-python",
   "name": "python",
   "nbconvert_exporter": "python",
   "pygments_lexer": "ipython3",
   "version": "3.9.7"
  }
 },
 "nbformat": 4,
 "nbformat_minor": 5
}
